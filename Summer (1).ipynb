{
  "nbformat": 4,
  "nbformat_minor": 0,
  "metadata": {
    "colab": {
      "name": "Summer.ipynb",
      "provenance": [],
      "collapsed_sections": []
    },
    "kernelspec": {
      "name": "python3",
      "display_name": "Python 3"
    },
    "language_info": {
      "name": "python"
    }
  },
  "cells": [
    {
      "cell_type": "code",
      "metadata": {
        "id": "K_6QJvQUpr7V"
      },
      "source": [
        "Summer Olympics Data Analysis Assignment\n"
      ],
      "execution_count": null,
      "outputs": []
    },
    {
      "cell_type": "code",
      "metadata": {
        "id": "9de-uHX9pyWT"
      },
      "source": [
        "1. In how many cities Summer Olympics is held so far?"
      ],
      "execution_count": null,
      "outputs": []
    },
    {
      "cell_type": "code",
      "metadata": {
        "colab": {
          "base_uri": "https://localhost:8080/"
        },
        "id": "tS8qMXkjRDgp",
        "outputId": "abd6febc-4aaf-4d45-c7e6-02e3c7de936e"
      },
      "source": [
        "import pandas as pd \n",
        "df=pd.read_csv(\"summer.csv\")\n",
        "print(len(df['City'].unique()))\n",
        "print(df['City'].unique())\n",
        "print (df)"
      ],
      "execution_count": 20,
      "outputs": [
        {
          "output_type": "stream",
          "name": "stdout",
          "text": [
            "22\n",
            "['Athens' 'Paris' 'St Louis' 'London' 'Stockholm' 'Antwerp' 'Amsterdam'\n",
            " 'Los Angeles' 'Berlin' 'Helsinki' 'Melbourne / Stockholm' 'Rome' 'Tokyo'\n",
            " 'Mexico' 'Munich' 'Montreal' 'Moscow' 'Seoul' 'Barcelona' 'Atlanta'\n",
            " 'Sydney' 'Beijing']\n",
            "       Year    City      Sport  ... Gender                       Event   Medal\n",
            "0      1896  Athens   Aquatics  ...    Men              100M Freestyle    Gold\n",
            "1      1896  Athens   Aquatics  ...    Men              100M Freestyle  Silver\n",
            "2      1896  Athens   Aquatics  ...    Men  100M Freestyle For Sailors  Bronze\n",
            "3      1896  Athens   Aquatics  ...    Men  100M Freestyle For Sailors    Gold\n",
            "4      1896  Athens   Aquatics  ...    Men  100M Freestyle For Sailors  Silver\n",
            "...     ...     ...        ...  ...    ...                         ...     ...\n",
            "31160  2012  London  Wrestling  ...    Men                    Wg 84 KG  Bronze\n",
            "31161  2012  London  Wrestling  ...    Men                    Wg 96 KG    Gold\n",
            "31162  2012  London  Wrestling  ...    Men                    Wg 96 KG  Silver\n",
            "31163  2012  London  Wrestling  ...    Men                    Wg 96 KG  Bronze\n",
            "31164  2012  London  Wrestling  ...    Men                    Wg 96 KG  Bronze\n",
            "\n",
            "[31165 rows x 9 columns]\n"
          ]
        }
      ]
    },
    {
      "cell_type": "code",
      "metadata": {
        "id": "455uV9bKRcSI"
      },
      "source": [
        "2.Which sport is having most number of Gold Medals so far? (Top 5)"
      ],
      "execution_count": null,
      "outputs": []
    },
    {
      "cell_type": "code",
      "metadata": {
        "colab": {
          "base_uri": "https://localhost:8080/",
          "height": 399
        },
        "id": "uIhE1XxGRg0g",
        "outputId": "3c045e21-354d-4688-9833-96e9b9ed4711"
      },
      "source": [
        "import pandas as pd \n",
        "df=pd.read_csv(\"summer.csv\")\n",
        "gold_medal=df[df['Medal']=='Gold']\n",
        "gold_medal.groupby('Sport').count()['Medal'].sort_values(ascending=False).head().plot.bar(figsize=(5,5))\n"
      ],
      "execution_count": 9,
      "outputs": [
        {
          "output_type": "execute_result",
          "data": {
            "text/plain": [
              "<matplotlib.axes._subplots.AxesSubplot at 0x7f7c6b3cd050>"
            ]
          },
          "metadata": {},
          "execution_count": 9
        },
        {
          "output_type": "display_data",
          "data": {
            "image/png": "[encoded data removed]",
            "text/plain": [
              "<Figure size 360x360 with 1 Axes>"
            ]
          },
          "metadata": {
            "needs_background": "light"
          }
        }
      ]
    },
    {
      "cell_type": "code",
      "metadata": {
        "id": "xehFHVUHn2Xs"
      },
      "source": [
        "3. Which sport is having most number of medals so far? (Top 5)\n"
      ],
      "execution_count": null,
      "outputs": []
    },
    {
      "cell_type": "code",
      "metadata": {
        "colab": {
          "base_uri": "https://localhost:8080/",
          "height": 399
        },
        "id": "E-cs_Ul-WKXW",
        "outputId": "3c2008bf-ddfe-4942-8064-433422728634"
      },
      "source": [
        "import pandas as pd \n",
        "df=pd.read_csv(\"summer.csv\")\n",
        "data= []\n",
        "for Sport in df['Sport'].unique():\n",
        "  data.append([Sport , len(df[df['Sport'] == Sport])])\n",
        "\n",
        "\n",
        "pd.DataFrame(data,columns = ['Sport' , 'Medal']).sort_values(by = 'Medal',ascending=False).head().plot(x = 'Sport', y = 'Medal', kind = 'bar', figsize = (5,5) )"
      ],
      "execution_count": 10,
      "outputs": [
        {
          "output_type": "execute_result",
          "data": {
            "text/plain": [
              "<matplotlib.axes._subplots.AxesSubplot at 0x7f7c6be16610>"
            ]
          },
          "metadata": {},
          "execution_count": 10
        },
        {
          "output_type": "display_data",
          "data": {
            "image/png": "[encoded data removed]",
            "text/plain": [
              "<Figure size 360x360 with 1 Axes>"
            ]
          },
          "metadata": {
            "needs_background": "light"
          }
        }
      ]
    },
    {
      "cell_type": "code",
      "metadata": {
        "id": "cN360l9RnysV"
      },
      "source": [
        "4. Which player has won most number of medals? (Top 5)\n"
      ],
      "execution_count": null,
      "outputs": []
    },
    {
      "cell_type": "code",
      "metadata": {
        "colab": {
          "base_uri": "https://localhost:8080/",
          "height": 458
        },
        "id": "xEysVMudoFQU",
        "outputId": "cb435e76-7713-4c63-b1fe-f9ff28de3657"
      },
      "source": [
        "df.groupby('Athlete').count()['Medal'].sort_values(ascending=False).head().plot.bar(figsize=(5,5))\n"
      ],
      "execution_count": 11,
      "outputs": [
        {
          "output_type": "execute_result",
          "data": {
            "text/plain": [
              "<matplotlib.axes._subplots.AxesSubplot at 0x7f7c6bdedfd0>"
            ]
          },
          "metadata": {},
          "execution_count": 11
        },
        {
          "output_type": "display_data",
          "data": {
            "image/png": "[encoded data removed]",
            "text/plain": [
              "<Figure size 360x360 with 1 Axes>"
            ]
          },
          "metadata": {
            "needs_background": "light"
          }
        }
      ]
    },
    {
      "cell_type": "code",
      "metadata": {
        "id": "bHEGKJZsoXEW"
      },
      "source": [
        "5. Which player has won most number Gold Medals of medals? (Top 5)\n"
      ],
      "execution_count": null,
      "outputs": []
    },
    {
      "cell_type": "code",
      "metadata": {
        "colab": {
          "base_uri": "https://localhost:8080/",
          "height": 426
        },
        "id": "gSGi0WqTocsc",
        "outputId": "b792750e-ddcf-4d5e-c744-4e93e74aa4f8"
      },
      "source": [
        "Gold_medal_won=df[df['Medal']=='Gold']\n",
        "Gold_medal_won.groupby('Athlete').count()['Medal'].sort_values(ascending=False).head().plot.bar(figsize=(5,5))"
      ],
      "execution_count": 15,
      "outputs": [
        {
          "output_type": "execute_result",
          "data": {
            "text/plain": [
              "<matplotlib.axes._subplots.AxesSubplot at 0x7f7c6bf13f50>"
            ]
          },
          "metadata": {},
          "execution_count": 15
        },
        {
          "output_type": "display_data",
          "data": {
            "image/png": "[encoded data removed]",
            "text/plain": [
              "<Figure size 360x360 with 1 Axes>"
            ]
          },
          "metadata": {
            "needs_background": "light"
          }
        }
      ]
    },
    {
      "cell_type": "code",
      "metadata": {
        "id": "ODjgdgR7oxn6"
      },
      "source": [
        "6. In which year India won first Gold Medal in Summer Olympics?\n"
      ],
      "execution_count": null,
      "outputs": []
    },
    {
      "cell_type": "code",
      "metadata": {
        "colab": {
          "base_uri": "https://localhost:8080/"
        },
        "id": "0QRC15sOo2Ue",
        "outputId": "4f38069c-a7b6-4925-f670-81f3fa58b48a"
      },
      "source": [
        "gold_medal=df[df['Medal']=='Gold']\n",
        "year=gold_medal.sort_values(['Year'],ascending=True)\n",
        "gold=year[year['Country']=='IND'].iloc[0]\n",
        "print(\"The year in which India won its first Gold medal in summer olympics is\",gold['Year'])\n",
        "print(gold)"
      ],
      "execution_count": 16,
      "outputs": [
        {
          "output_type": "stream",
          "name": "stdout",
          "text": [
            "The year in which India won its first Gold medal in summer olympics is 1928\n",
            "Year                 1928\n",
            "City            Amsterdam\n",
            "Sport              Hockey\n",
            "Discipline         Hockey\n",
            "Athlete       CHAND, Dyan\n",
            "Country               IND\n",
            "Gender                Men\n",
            "Event              Hockey\n",
            "Medal                Gold\n",
            "Name: 5513, dtype: object\n"
          ]
        }
      ]
    },
    {
      "cell_type": "code",
      "metadata": {
        "id": "-kbTigeMpGok"
      },
      "source": [
        "7. Which event is most popular in terms on number of players? (Top 5)¶\n"
      ],
      "execution_count": null,
      "outputs": []
    },
    {
      "cell_type": "code",
      "metadata": {
        "colab": {
          "base_uri": "https://localhost:8080/",
          "height": 431
        },
        "id": "DtWsTuvXpIZ3",
        "outputId": "3600d177-f989-4603-9620-7f3c483d29b3"
      },
      "source": [
        "df.groupby('Event').count()['Athlete'].sort_values(ascending=False).head().plot.bar(figsize=(5,5))"
      ],
      "execution_count": 17,
      "outputs": [
        {
          "output_type": "execute_result",
          "data": {
            "text/plain": [
              "<matplotlib.axes._subplots.AxesSubplot at 0x7f7c6be16110>"
            ]
          },
          "metadata": {},
          "execution_count": 17
        },
        {
          "output_type": "display_data",
          "data": {
            "image/png": "[encoded data removed]",
            "text/plain": [
              "<Figure size 360x360 with 1 Axes>"
            ]
          },
          "metadata": {
            "needs_background": "light"
          }
        }
      ]
    },
    {
      "cell_type": "code",
      "metadata": {
        "id": "iYPPCWMdpe1A"
      },
      "source": [
        "8. Which sport is having most female Gold Medalists? (Top 5)\n"
      ],
      "execution_count": null,
      "outputs": []
    },
    {
      "cell_type": "code",
      "metadata": {
        "colab": {
          "base_uri": "https://localhost:8080/",
          "height": 433
        },
        "id": "nN8cHiO0pUgm",
        "outputId": "fa1cf72a-d501-4773-c795-68b63692532d"
      },
      "source": [
        "gold=df[df['Medal']=='Gold']\n",
        "female_gold_medal=gold[df['Gender']=='Women']\n",
        "female_gold_medal.groupby('Sport').count()['Medal'].sort_values(ascending=False).head().plot.bar(figsize=(5,5))\n"
      ],
      "execution_count": 18,
      "outputs": [
        {
          "output_type": "stream",
          "name": "stderr",
          "text": [
            "/usr/local/lib/python3.7/dist-packages/ipykernel_launcher.py:2: UserWarning: Boolean Series key will be reindexed to match DataFrame index.\n",
            "  \n"
          ]
        },
        {
          "output_type": "execute_result",
          "data": {
            "text/plain": [
              "<matplotlib.axes._subplots.AxesSubplot at 0x7f7c6be3e850>"
            ]
          },
          "metadata": {},
          "execution_count": 18
        },
        {
          "output_type": "display_data",
          "data": {
            "image/png": "[encoded data removed]",
            "text/plain": [
              "<Figure size 360x360 with 1 Axes>"
            ]
          },
          "metadata": {
            "needs_background": "light"
          }
        }
      ]
    }
  ]
}